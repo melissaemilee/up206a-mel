{
 "cells": [
  {
   "cell_type": "markdown",
   "id": "d7da9ff4-f45c-4499-b079-f05c39e4071d",
   "metadata": {},
   "source": [
    "## Redo of data exploration: LA country vacant parcel data\n",
    "### I'm practicing code previously learned in LA natural areas and census assignements from weeks 2 and 3\n",
    "\n",
    "I am doing a data exploration this week of a spatial dataframe that we would like to layer on a map in a future assignment when we cover how to do that in this class.\n",
    "\n",
    "Our team is interested in seeing how vacant parcel data can be spatially mapped through points and a chlorpleth map. For this notebook, I am going to start with a data exploration of a cvs file that I am also going to convert to a geojson.\n",
    "\n",
    "As we are currently both based in Los Angeles and realized it could be interested to explore what taking back land for communities could look like in a city, we are going to focus regionally on Los Angeles County, and if necessary, limit the map area to south of Antelope Valley and Santa Clarita.\n",
    "\n",
    "[Here is the source from LA County where I downloaded this data.](https://data.lacounty.gov/Parcel-/Vacant-Parcels-LA-County-from-ASR-Use-Code/vcaw-zeg9)\n",
    "\n",
    "The file was close to 75 mb, I reduced down to 39 mb by deleting empty or redundant columns first. I will refer to the above link for the metadata on the meaning of the other columns.\n",
    "\n",
    "First I am going to start off by importing some libraries"
   ]
  },
  {
   "cell_type": "code",
   "execution_count": 1,
   "id": "4deb7efa-7561-438a-89ef-4e1f126debea",
   "metadata": {},
   "outputs": [
    {
     "name": "stderr",
     "output_type": "stream",
     "text": [
      "/opt/conda/lib/python3.9/site-packages/geopandas/_compat.py:106: UserWarning: The Shapely GEOS version (3.9.1-CAPI-1.14.2) is incompatible with the GEOS version PyGEOS was compiled with (3.10.1-CAPI-1.16.0). Conversions between both will be slow.\n",
      "  warnings.warn(\n"
     ]
    }
   ],
   "source": [
    "# for general data wrangling tasks\n",
    "import pandas as pd\n",
    "\n",
    "# to read and visualize spatial data\n",
    "import geopandas as gpd\n",
    "\n",
    "# to give more power to your figures (plots)\n",
    "import matplotlib.pyplot as plt"
   ]
  },
  {
   "cell_type": "code",
   "execution_count": 2,
   "id": "cc6b4dcb-fce3-4865-ad7a-abc5c839f7e0",
   "metadata": {},
   "outputs": [
    {
     "name": "stderr",
     "output_type": "stream",
     "text": [
      "/opt/conda/lib/python3.9/site-packages/IPython/core/interactiveshell.py:3441: DtypeWarning: Columns (9) have mixed types.Specify dtype option on import or set low_memory=False.\n",
      "  exec(code_obj, self.user_global_ns, self.user_ns)\n"
     ]
    }
   ],
   "source": [
    "# Next I am going to import my csv file of vacant parcel data in LA County that I've uploaded to jupyter notebook.\n",
    "\n",
    "vac = pd.read_csv('Vacant_Parcels_LA_County_ASR_Use_Code_2016.csv')"
   ]
  },
  {
   "cell_type": "code",
   "execution_count": 3,
   "id": "1254a3e0-d52b-4ec7-95ad-b696fcacd8ed",
   "metadata": {},
   "outputs": [
    {
     "data": {
      "text/plain": [
       "(176156, 15)"
      ]
     },
     "execution_count": 3,
     "metadata": {},
     "output_type": "execute_result"
    }
   ],
   "source": [
    "# how big is this data\n",
    "\n",
    "vac.shape"
   ]
  },
  {
   "cell_type": "code",
   "execution_count": 4,
   "id": "aaa4b5d4-dd69-4d2f-8fb5-38f88f2902d3",
   "metadata": {},
   "outputs": [
    {
     "data": {
      "text/html": [
       "<div>\n",
       "<style scoped>\n",
       "    .dataframe tbody tr th:only-of-type {\n",
       "        vertical-align: middle;\n",
       "    }\n",
       "\n",
       "    .dataframe tbody tr th {\n",
       "        vertical-align: top;\n",
       "    }\n",
       "\n",
       "    .dataframe thead th {\n",
       "        text-align: right;\n",
       "    }\n",
       "</style>\n",
       "<table border=\"1\" class=\"dataframe\">\n",
       "  <thead>\n",
       "    <tr style=\"text-align: right;\">\n",
       "      <th></th>\n",
       "      <th>TaxRateArea_CITY</th>\n",
       "      <th>AIN</th>\n",
       "      <th>TaxRateArea</th>\n",
       "      <th>AssessorID</th>\n",
       "      <th>PropertyUseCode</th>\n",
       "      <th>GeneralUseType</th>\n",
       "      <th>SpecificUseType</th>\n",
       "      <th>RecordingDate</th>\n",
       "      <th>SpecialParcelClassification</th>\n",
       "      <th>AdministrativeRegion</th>\n",
       "      <th>Cluster</th>\n",
       "      <th>ParcelBoundaryDescription</th>\n",
       "      <th>CENTER_LAT</th>\n",
       "      <th>CENTER_LON</th>\n",
       "      <th>Location 1</th>\n",
       "    </tr>\n",
       "  </thead>\n",
       "  <tbody>\n",
       "    <tr>\n",
       "      <th>0</th>\n",
       "      <td>LOS ANGELES</td>\n",
       "      <td>2138012021</td>\n",
       "      <td>8852</td>\n",
       "      <td>2138-012-021</td>\n",
       "      <td>300V</td>\n",
       "      <td>Industrial</td>\n",
       "      <td>Industrial</td>\n",
       "      <td>20140123</td>\n",
       "      <td></td>\n",
       "      <td>24</td>\n",
       "      <td>24820</td>\n",
       "      <td>OWENSMOUTH S 50 FT OF N 100 FT OF W 231.43 FT ...</td>\n",
       "      <td>34.196276</td>\n",
       "      <td>-118.597994</td>\n",
       "      <td>(34.19627608, -118.59799422)</td>\n",
       "    </tr>\n",
       "    <tr>\n",
       "      <th>1</th>\n",
       "      <td>LOS ANGELES</td>\n",
       "      <td>2146016020</td>\n",
       "      <td>16</td>\n",
       "      <td>2146-016-020</td>\n",
       "      <td>010V</td>\n",
       "      <td>Residential</td>\n",
       "      <td>Single Family Residence</td>\n",
       "      <td>20141112</td>\n",
       "      <td></td>\n",
       "      <td>2</td>\n",
       "      <td>2163</td>\n",
       "      <td>*LAND DESC IN DOC 0002484, 76-4-26 *TR=22481*P...</td>\n",
       "      <td>34.177912</td>\n",
       "      <td>-118.606336</td>\n",
       "      <td>(34.17791177, -118.60633582)</td>\n",
       "    </tr>\n",
       "    <tr>\n",
       "      <th>2</th>\n",
       "      <td>LOS ANGELES</td>\n",
       "      <td>2146035020</td>\n",
       "      <td>16</td>\n",
       "      <td>2146-035-020</td>\n",
       "      <td>010V</td>\n",
       "      <td>Residential</td>\n",
       "      <td>Single Family Residence</td>\n",
       "      <td>20090406</td>\n",
       "      <td></td>\n",
       "      <td>2</td>\n",
       "      <td>2163</td>\n",
       "      <td>TR=53188 FOR DESC SEE ASSESSOR'S MAPS POR OF L...</td>\n",
       "      <td>34.173978</td>\n",
       "      <td>-118.610224</td>\n",
       "      <td>(34.17397819, -118.61022349)</td>\n",
       "    </tr>\n",
       "    <tr>\n",
       "      <th>3</th>\n",
       "      <td>LOS ANGELES</td>\n",
       "      <td>2156018047</td>\n",
       "      <td>16</td>\n",
       "      <td>2156-018-047</td>\n",
       "      <td>010V</td>\n",
       "      <td>Residential</td>\n",
       "      <td>Single Family Residence</td>\n",
       "      <td>20111007</td>\n",
       "      <td></td>\n",
       "      <td>2</td>\n",
       "      <td>2158</td>\n",
       "      <td>P M 360-55-56 LOT B</td>\n",
       "      <td>34.177296</td>\n",
       "      <td>-118.545030</td>\n",
       "      <td>(34.17729595, -118.54503046)</td>\n",
       "    </tr>\n",
       "    <tr>\n",
       "      <th>4</th>\n",
       "      <td>LOS ANGELES</td>\n",
       "      <td>2157007066</td>\n",
       "      <td>16</td>\n",
       "      <td>2157-007-066</td>\n",
       "      <td>050V</td>\n",
       "      <td>Residential</td>\n",
       "      <td>Five or More Units or Apartments (Any Combinat...</td>\n",
       "      <td>19970805</td>\n",
       "      <td></td>\n",
       "      <td>2</td>\n",
       "      <td>2412</td>\n",
       "      <td>TR=36573 LOT    1</td>\n",
       "      <td>34.171955</td>\n",
       "      <td>-118.529868</td>\n",
       "      <td>(34.17195503, -118.52986827)</td>\n",
       "    </tr>\n",
       "  </tbody>\n",
       "</table>\n",
       "</div>"
      ],
      "text/plain": [
       "  TaxRateArea_CITY         AIN  TaxRateArea    AssessorID PropertyUseCode  \\\n",
       "0      LOS ANGELES  2138012021         8852  2138-012-021            300V   \n",
       "1      LOS ANGELES  2146016020           16  2146-016-020            010V   \n",
       "2      LOS ANGELES  2146035020           16  2146-035-020            010V   \n",
       "3      LOS ANGELES  2156018047           16  2156-018-047            010V   \n",
       "4      LOS ANGELES  2157007066           16  2157-007-066            050V   \n",
       "\n",
       "  GeneralUseType                                    SpecificUseType  \\\n",
       "0     Industrial                                         Industrial   \n",
       "1    Residential                            Single Family Residence   \n",
       "2    Residential                            Single Family Residence   \n",
       "3    Residential                            Single Family Residence   \n",
       "4    Residential  Five or More Units or Apartments (Any Combinat...   \n",
       "\n",
       "   RecordingDate SpecialParcelClassification AdministrativeRegion  Cluster  \\\n",
       "0       20140123                                               24    24820   \n",
       "1       20141112                                                2     2163   \n",
       "2       20090406                                                2     2163   \n",
       "3       20111007                                                2     2158   \n",
       "4       19970805                                                2     2412   \n",
       "\n",
       "                           ParcelBoundaryDescription  CENTER_LAT  CENTER_LON  \\\n",
       "0  OWENSMOUTH S 50 FT OF N 100 FT OF W 231.43 FT ...   34.196276 -118.597994   \n",
       "1  *LAND DESC IN DOC 0002484, 76-4-26 *TR=22481*P...   34.177912 -118.606336   \n",
       "2  TR=53188 FOR DESC SEE ASSESSOR'S MAPS POR OF L...   34.173978 -118.610224   \n",
       "3                                P M 360-55-56 LOT B   34.177296 -118.545030   \n",
       "4                                  TR=36573 LOT    1   34.171955 -118.529868   \n",
       "\n",
       "                     Location 1  \n",
       "0  (34.19627608, -118.59799422)  \n",
       "1  (34.17791177, -118.60633582)  \n",
       "2  (34.17397819, -118.61022349)  \n",
       "3  (34.17729595, -118.54503046)  \n",
       "4  (34.17195503, -118.52986827)  "
      ]
     },
     "execution_count": 4,
     "metadata": {},
     "output_type": "execute_result"
    }
   ],
   "source": [
    "# first five rows\n",
    "vac.head()"
   ]
  },
  {
   "cell_type": "code",
   "execution_count": 5,
   "id": "ee071592-a75a-4aaf-90d3-73cf9147e859",
   "metadata": {},
   "outputs": [
    {
     "name": "stdout",
     "output_type": "stream",
     "text": [
      "<class 'pandas.core.frame.DataFrame'>\n",
      "RangeIndex: 176156 entries, 0 to 176155\n",
      "Data columns (total 15 columns):\n",
      " #   Column                       Non-Null Count   Dtype  \n",
      "---  ------                       --------------   -----  \n",
      " 0   TaxRateArea_CITY             176156 non-null  object \n",
      " 1   AIN                          176156 non-null  int64  \n",
      " 2   TaxRateArea                  176156 non-null  int64  \n",
      " 3   AssessorID                   176156 non-null  object \n",
      " 4   PropertyUseCode              176156 non-null  object \n",
      " 5   GeneralUseType               174849 non-null  object \n",
      " 6   SpecificUseType              174849 non-null  object \n",
      " 7   RecordingDate                176156 non-null  int64  \n",
      " 8   SpecialParcelClassification  176156 non-null  object \n",
      " 9   AdministrativeRegion         176156 non-null  object \n",
      " 10  Cluster                      176156 non-null  int64  \n",
      " 11  ParcelBoundaryDescription    176156 non-null  object \n",
      " 12  CENTER_LAT                   176062 non-null  float64\n",
      " 13  CENTER_LON                   176062 non-null  float64\n",
      " 14  Location 1                   176062 non-null  object \n",
      "dtypes: float64(2), int64(4), object(9)\n",
      "memory usage: 20.2+ MB\n"
     ]
    }
   ],
   "source": [
    "# more info on type of data.\n",
    "\n",
    "vac.info()"
   ]
  },
  {
   "cell_type": "markdown",
   "id": "6ba17544-44b8-4924-8b7e-aec6c95de374",
   "metadata": {},
   "source": [
    "I notice it only has longitute and latitude as a csv file, which means this has to be converted for me to plot the points. TAs Chris and Ryan offered these resources for conversion:\n",
    "https://geopandas.org/en/stable/gallery/create_geopandas_from_pandas.html\n",
    "https://geopandas.org/en/stable/docs/reference/api/geopandas.points_from_xy.html\n",
    "\n",
    "I will now try to create a gpd from pd with this data"
   ]
  },
  {
   "cell_type": "code",
   "execution_count": 6,
   "id": "3b33ab86-8130-448a-8cb5-d81cf139c0b5",
   "metadata": {},
   "outputs": [
    {
     "name": "stdout",
     "output_type": "stream",
     "text": [
      "Index(['TaxRateArea_CITY', 'AIN', 'TaxRateArea', 'AssessorID',\n",
      "       'PropertyUseCode', 'GeneralUseType', 'SpecificUseType', 'RecordingDate',\n",
      "       'SpecialParcelClassification', 'AdministrativeRegion', 'Cluster',\n",
      "       'ParcelBoundaryDescription', 'CENTER_LAT', 'CENTER_LON', 'Location 1'],\n",
      "      dtype='object')\n"
     ]
    }
   ],
   "source": [
    "#I want to view the column headers again since I need to see what the column names are for latitude and longitude to figure out if I need to change the names\n",
    "\n",
    "print(vac.columns)"
   ]
  },
  {
   "cell_type": "code",
   "execution_count": 7,
   "id": "9cf238f1-d8b2-46c6-8045-4c3c25c32261",
   "metadata": {},
   "outputs": [
    {
     "name": "stdout",
     "output_type": "stream",
     "text": [
      "  TaxRateArea_CITY         AIN  TaxRateArea    AssessorID PropertyUseCode  \\\n",
      "0      LOS ANGELES  2138012021         8852  2138-012-021            300V   \n",
      "1      LOS ANGELES  2146016020           16  2146-016-020            010V   \n",
      "2      LOS ANGELES  2146035020           16  2146-035-020            010V   \n",
      "3      LOS ANGELES  2156018047           16  2156-018-047            010V   \n",
      "4      LOS ANGELES  2157007066           16  2157-007-066            050V   \n",
      "\n",
      "  GeneralUseType                                    SpecificUseType  \\\n",
      "0     Industrial                                         Industrial   \n",
      "1    Residential                            Single Family Residence   \n",
      "2    Residential                            Single Family Residence   \n",
      "3    Residential                            Single Family Residence   \n",
      "4    Residential  Five or More Units or Apartments (Any Combinat...   \n",
      "\n",
      "   RecordingDate SpecialParcelClassification AdministrativeRegion  Cluster  \\\n",
      "0       20140123                                               24    24820   \n",
      "1       20141112                                                2     2163   \n",
      "2       20090406                                                2     2163   \n",
      "3       20111007                                                2     2158   \n",
      "4       19970805                                                2     2412   \n",
      "\n",
      "                           ParcelBoundaryDescription  CENTER_LAT  CENTER_LON  \\\n",
      "0  OWENSMOUTH S 50 FT OF N 100 FT OF W 231.43 FT ...   34.196276 -118.597994   \n",
      "1  *LAND DESC IN DOC 0002484, 76-4-26 *TR=22481*P...   34.177912 -118.606336   \n",
      "2  TR=53188 FOR DESC SEE ASSESSOR'S MAPS POR OF L...   34.173978 -118.610224   \n",
      "3                                P M 360-55-56 LOT B   34.177296 -118.545030   \n",
      "4                                  TR=36573 LOT    1   34.171955 -118.529868   \n",
      "\n",
      "                     Location 1  \n",
      "0  (34.19627608, -118.59799422)  \n",
      "1  (34.17791177, -118.60633582)  \n",
      "2  (34.17397819, -118.61022349)  \n",
      "3  (34.17729595, -118.54503046)  \n",
      "4  (34.17195503, -118.52986827)  \n"
     ]
    }
   ],
   "source": [
    "#another way to see column headers corresponding with the data itself (without scrolling sideways)\n",
    "\n",
    "print(vac.head())"
   ]
  },
  {
   "cell_type": "code",
   "execution_count": 8,
   "id": "aabc1ca2-8fff-4120-8bc1-3905a753de75",
   "metadata": {},
   "outputs": [
    {
     "data": {
      "text/plain": [
       "['TaxRateArea_CITY',\n",
       " 'AIN',\n",
       " 'TaxRateArea',\n",
       " 'AssessorID',\n",
       " 'PropertyUseCode',\n",
       " 'GeneralUseType',\n",
       " 'SpecificUseType',\n",
       " 'RecordingDate',\n",
       " 'SpecialParcelClassification',\n",
       " 'AdministrativeRegion',\n",
       " 'Cluster',\n",
       " 'ParcelBoundaryDescription',\n",
       " 'CENTER_LAT',\n",
       " 'CENTER_LON',\n",
       " 'Location 1']"
      ]
     },
     "execution_count": 8,
     "metadata": {},
     "output_type": "execute_result"
    }
   ],
   "source": [
    "#list columns\n",
    "vac.columns.to_list()"
   ]
  },
  {
   "cell_type": "code",
   "execution_count": 9,
   "id": "16bb7b70-6203-41ee-9ecc-17d561370c3f",
   "metadata": {},
   "outputs": [],
   "source": [
    "# I want to rename columns so they have latitude and longtitude written out\n",
    "vac.columns = ['TaxRateArea_CITY',\n",
    " 'AIN',\n",
    " 'TaxRateArea',\n",
    " 'AssessorID',\n",
    " 'PropertyUseCode',\n",
    " 'GeneralUseType',\n",
    " 'SpecificUseType',\n",
    " 'RecordingDate',\n",
    " 'SpecialParcelClassification',\n",
    " 'AdministrativeRegion',\n",
    " 'Cluster',\n",
    " 'ParcelBoundaryDescription',\n",
    " 'Latitude',\n",
    " 'Longitude',\n",
    " 'Location 1']"
   ]
  },
  {
   "cell_type": "code",
   "execution_count": 10,
   "id": "86ac9f6e-da4f-460a-a7d7-f7529c8f8d62",
   "metadata": {},
   "outputs": [],
   "source": [
    "# I am now going to convert my dataframe to a geodataframe\n",
    "gvac = gpd.GeoDataFrame(vac, geometry=gpd.points_from_xy(vac.Longitude, vac.Latitude))"
   ]
  },
  {
   "cell_type": "code",
   "execution_count": 11,
   "id": "198a6d94-0d4f-41f2-83b2-b056f14fc3a8",
   "metadata": {},
   "outputs": [
    {
     "name": "stdout",
     "output_type": "stream",
     "text": [
      "  TaxRateArea_CITY         AIN  TaxRateArea    AssessorID PropertyUseCode  \\\n",
      "0      LOS ANGELES  2138012021         8852  2138-012-021            300V   \n",
      "1      LOS ANGELES  2146016020           16  2146-016-020            010V   \n",
      "2      LOS ANGELES  2146035020           16  2146-035-020            010V   \n",
      "3      LOS ANGELES  2156018047           16  2156-018-047            010V   \n",
      "4      LOS ANGELES  2157007066           16  2157-007-066            050V   \n",
      "\n",
      "  GeneralUseType                                    SpecificUseType  \\\n",
      "0     Industrial                                         Industrial   \n",
      "1    Residential                            Single Family Residence   \n",
      "2    Residential                            Single Family Residence   \n",
      "3    Residential                            Single Family Residence   \n",
      "4    Residential  Five or More Units or Apartments (Any Combinat...   \n",
      "\n",
      "   RecordingDate SpecialParcelClassification AdministrativeRegion  Cluster  \\\n",
      "0       20140123                                               24    24820   \n",
      "1       20141112                                                2     2163   \n",
      "2       20090406                                                2     2163   \n",
      "3       20111007                                                2     2158   \n",
      "4       19970805                                                2     2412   \n",
      "\n",
      "                           ParcelBoundaryDescription   Latitude   Longitude  \\\n",
      "0  OWENSMOUTH S 50 FT OF N 100 FT OF W 231.43 FT ...  34.196276 -118.597994   \n",
      "1  *LAND DESC IN DOC 0002484, 76-4-26 *TR=22481*P...  34.177912 -118.606336   \n",
      "2  TR=53188 FOR DESC SEE ASSESSOR'S MAPS POR OF L...  34.173978 -118.610224   \n",
      "3                                P M 360-55-56 LOT B  34.177296 -118.545030   \n",
      "4                                  TR=36573 LOT    1  34.171955 -118.529868   \n",
      "\n",
      "                     Location 1                     geometry  \n",
      "0  (34.19627608, -118.59799422)  POINT (-118.59799 34.19628)  \n",
      "1  (34.17791177, -118.60633582)  POINT (-118.60634 34.17791)  \n",
      "2  (34.17397819, -118.61022349)  POINT (-118.61022 34.17398)  \n",
      "3  (34.17729595, -118.54503046)  POINT (-118.54503 34.17730)  \n",
      "4  (34.17195503, -118.52986827)  POINT (-118.52987 34.17196)  \n"
     ]
    }
   ],
   "source": [
    "#I am now going to see what this looks likes as a geodateframe. There is a geometry colum now\n",
    "print(gvac.head())"
   ]
  },
  {
   "cell_type": "code",
   "execution_count": 12,
   "id": "d36f014b-d61b-46c4-b64f-98074ef8725e",
   "metadata": {},
   "outputs": [
    {
     "data": {
      "text/plain": [
       "['naturalearth_lowres', 'naturalearth_cities', 'nybb']"
      ]
     },
     "execution_count": 12,
     "metadata": {},
     "output_type": "execute_result"
    }
   ],
   "source": [
    "# I am now going to try project and map. I got these isntructions from TAs Chris and Ryan https://geopandas.org/en/stable/gallery/create_geopandas_from_pandas.html\n",
    "\n",
    "# First what are the options available in the gdp dataset library?\n",
    "gpd.datasets.available"
   ]
  },
  {
   "cell_type": "code",
   "execution_count": 13,
   "id": "e99b8f15-27b0-4611-a6fb-858bfa3c5e34",
   "metadata": {},
   "outputs": [
    {
     "data": {
      "image/png": "[encoded data removed]",
      "text/plain": [
       "<Figure size 432x288 with 1 Axes>"
      ]
     },
     "metadata": {
      "needs_background": "light"
     },
     "output_type": "display_data"
    }
   ],
   "source": [
    "# following this site https://geopandas.org/en/stable/gallery/create_geopandas_from_pandas.html, I'm going to see what happens if I do the cities option\n",
    "\n",
    "vacmap = gpd.read_file(gpd.datasets.get_path('naturalearth_cities'))\n",
    "\n",
    "ax = vacmap.plot(\n",
    "    color='white', edgecolor='black')\n",
    "\n",
    "# We can now plot our GeoDataFrame\n",
    "gvac.plot(ax=ax, color='red')\n",
    "\n",
    "plt.show()"
   ]
  },
  {
   "cell_type": "code",
   "execution_count": 14,
   "id": "37b0f7db-a263-4360-bf46-d093ce0fd17a",
   "metadata": {},
   "outputs": [
    {
     "data": {
      "image/png": "[encoded data removed]",
      "text/plain": [
       "<Figure size 432x288 with 1 Axes>"
      ]
     },
     "metadata": {
      "needs_background": "light"
     },
     "output_type": "display_data"
    }
   ],
   "source": [
    "#what about nybb?\n",
    "\n",
    "vacmap = gpd.read_file(gpd.datasets.get_path('nybb'))\n",
    "\n",
    "ax = vacmap.plot(\n",
    "    color='white', edgecolor='black')\n",
    "\n",
    "# We can now plot our GeoDataFrame\n",
    "gvac.plot(ax=ax, color='red')\n",
    "\n",
    "plt.show()"
   ]
  },
  {
   "cell_type": "markdown",
   "id": "34469d61-8b71-4fa5-af59-81a7ad39470d",
   "metadata": {},
   "source": [
    "NYBB is the region of NYC, so not useful. naturalearth_cities seems to be cities around the world, and it looks like the red dot was los angeles.\n",
    "\n",
    "What about naturalearth_lowres?"
   ]
  },
  {
   "cell_type": "code",
   "execution_count": 15,
   "id": "5b914101-a417-410d-9596-47c631d879b2",
   "metadata": {},
   "outputs": [
    {
     "data": {
      "image/png": "[encoded data removed]",
      "text/plain": [
       "<Figure size 432x288 with 1 Axes>"
      ]
     },
     "metadata": {
      "needs_background": "light"
     },
     "output_type": "display_data"
    }
   ],
   "source": [
    "vacmap = gpd.read_file(gpd.datasets.get_path('naturalearth_lowres'))\n",
    "\n",
    "ax = vacmap.plot(\n",
    "    color='white', edgecolor='black')\n",
    "\n",
    "# We can now plot our GeoDataFrame\n",
    "gvac.plot(ax=ax, color='red')\n",
    "\n",
    "plt.show()"
   ]
  },
  {
   "cell_type": "code",
   "execution_count": 16,
   "id": "13583de8-59c2-4385-ad22-b6723b6473a9",
   "metadata": {},
   "outputs": [
    {
     "data": {
      "text/plain": [
       "'/opt/conda/lib/python3.9/site-packages/geopandas/datasets/naturalearth_lowres/naturalearth_lowres.shp'"
      ]
     },
     "execution_count": 16,
     "metadata": {},
     "output_type": "execute_result"
    }
   ],
   "source": [
    "# what is this file?\n",
    "gpd.datasets.get_path('naturalearth_lowres')"
   ]
  },
  {
   "cell_type": "code",
   "execution_count": 17,
   "id": "7405ff4a-c3a0-4947-8aea-a0be911ec4ef",
   "metadata": {},
   "outputs": [
    {
     "data": {
      "image/png": "[encoded data removed]",
      "text/plain": [
       "<Figure size 432x288 with 1 Axes>"
      ]
     },
     "metadata": {
      "needs_background": "light"
     },
     "output_type": "display_data"
    }
   ],
   "source": [
    "# can I try mapping to north america?\n",
    "vacmap = gpd.read_file(gpd.datasets.get_path('naturalearth_lowres'))\n",
    "\n",
    "ax = vacmap[vacmap.continent == 'North America'].plot(color='white', edgecolor='black')\n",
    "\n",
    "gvac.plot(ax=ax, color='red')\n",
    "\n",
    "plt.show()"
   ]
  },
  {
   "cell_type": "code",
   "execution_count": 18,
   "id": "c7bb8f7b-dc16-4ac7-805a-53a65470e750",
   "metadata": {
    "tags": []
   },
   "outputs": [
    {
     "data": {
      "text/html": [
       "<div>\n",
       "<style scoped>\n",
       "    .dataframe tbody tr th:only-of-type {\n",
       "        vertical-align: middle;\n",
       "    }\n",
       "\n",
       "    .dataframe tbody tr th {\n",
       "        vertical-align: top;\n",
       "    }\n",
       "\n",
       "    .dataframe thead th {\n",
       "        text-align: right;\n",
       "    }\n",
       "</style>\n",
       "<table border=\"1\" class=\"dataframe\">\n",
       "  <thead>\n",
       "    <tr style=\"text-align: right;\">\n",
       "      <th></th>\n",
       "      <th>pop_est</th>\n",
       "      <th>continent</th>\n",
       "      <th>name</th>\n",
       "      <th>iso_a3</th>\n",
       "      <th>gdp_md_est</th>\n",
       "      <th>geometry</th>\n",
       "    </tr>\n",
       "  </thead>\n",
       "  <tbody>\n",
       "    <tr>\n",
       "      <th>0</th>\n",
       "      <td>920938</td>\n",
       "      <td>Oceania</td>\n",
       "      <td>Fiji</td>\n",
       "      <td>FJI</td>\n",
       "      <td>8374.0</td>\n",
       "      <td>MULTIPOLYGON (((180.00000 -16.06713, 180.00000...</td>\n",
       "    </tr>\n",
       "    <tr>\n",
       "      <th>1</th>\n",
       "      <td>53950935</td>\n",
       "      <td>Africa</td>\n",
       "      <td>Tanzania</td>\n",
       "      <td>TZA</td>\n",
       "      <td>150600.0</td>\n",
       "      <td>POLYGON ((33.90371 -0.95000, 34.07262 -1.05982...</td>\n",
       "    </tr>\n",
       "    <tr>\n",
       "      <th>2</th>\n",
       "      <td>603253</td>\n",
       "      <td>Africa</td>\n",
       "      <td>W. Sahara</td>\n",
       "      <td>ESH</td>\n",
       "      <td>906.5</td>\n",
       "      <td>POLYGON ((-8.66559 27.65643, -8.66512 27.58948...</td>\n",
       "    </tr>\n",
       "    <tr>\n",
       "      <th>3</th>\n",
       "      <td>35623680</td>\n",
       "      <td>North America</td>\n",
       "      <td>Canada</td>\n",
       "      <td>CAN</td>\n",
       "      <td>1674000.0</td>\n",
       "      <td>MULTIPOLYGON (((-122.84000 49.00000, -122.9742...</td>\n",
       "    </tr>\n",
       "    <tr>\n",
       "      <th>4</th>\n",
       "      <td>326625791</td>\n",
       "      <td>North America</td>\n",
       "      <td>United States of America</td>\n",
       "      <td>USA</td>\n",
       "      <td>18560000.0</td>\n",
       "      <td>MULTIPOLYGON (((-122.84000 49.00000, -120.0000...</td>\n",
       "    </tr>\n",
       "    <tr>\n",
       "      <th>...</th>\n",
       "      <td>...</td>\n",
       "      <td>...</td>\n",
       "      <td>...</td>\n",
       "      <td>...</td>\n",
       "      <td>...</td>\n",
       "      <td>...</td>\n",
       "    </tr>\n",
       "    <tr>\n",
       "      <th>172</th>\n",
       "      <td>7111024</td>\n",
       "      <td>Europe</td>\n",
       "      <td>Serbia</td>\n",
       "      <td>SRB</td>\n",
       "      <td>101800.0</td>\n",
       "      <td>POLYGON ((18.82982 45.90887, 18.82984 45.90888...</td>\n",
       "    </tr>\n",
       "    <tr>\n",
       "      <th>173</th>\n",
       "      <td>642550</td>\n",
       "      <td>Europe</td>\n",
       "      <td>Montenegro</td>\n",
       "      <td>MNE</td>\n",
       "      <td>10610.0</td>\n",
       "      <td>POLYGON ((20.07070 42.58863, 19.80161 42.50009...</td>\n",
       "    </tr>\n",
       "    <tr>\n",
       "      <th>174</th>\n",
       "      <td>1895250</td>\n",
       "      <td>Europe</td>\n",
       "      <td>Kosovo</td>\n",
       "      <td>-99</td>\n",
       "      <td>18490.0</td>\n",
       "      <td>POLYGON ((20.59025 41.85541, 20.52295 42.21787...</td>\n",
       "    </tr>\n",
       "    <tr>\n",
       "      <th>175</th>\n",
       "      <td>1218208</td>\n",
       "      <td>North America</td>\n",
       "      <td>Trinidad and Tobago</td>\n",
       "      <td>TTO</td>\n",
       "      <td>43570.0</td>\n",
       "      <td>POLYGON ((-61.68000 10.76000, -61.10500 10.890...</td>\n",
       "    </tr>\n",
       "    <tr>\n",
       "      <th>176</th>\n",
       "      <td>13026129</td>\n",
       "      <td>Africa</td>\n",
       "      <td>S. Sudan</td>\n",
       "      <td>SSD</td>\n",
       "      <td>20880.0</td>\n",
       "      <td>POLYGON ((30.83385 3.50917, 29.95350 4.17370, ...</td>\n",
       "    </tr>\n",
       "  </tbody>\n",
       "</table>\n",
       "<p>177 rows × 6 columns</p>\n",
       "</div>"
      ],
      "text/plain": [
       "       pop_est      continent                      name iso_a3  gdp_md_est  \\\n",
       "0       920938        Oceania                      Fiji    FJI      8374.0   \n",
       "1     53950935         Africa                  Tanzania    TZA    150600.0   \n",
       "2       603253         Africa                 W. Sahara    ESH       906.5   \n",
       "3     35623680  North America                    Canada    CAN   1674000.0   \n",
       "4    326625791  North America  United States of America    USA  18560000.0   \n",
       "..         ...            ...                       ...    ...         ...   \n",
       "172    7111024         Europe                    Serbia    SRB    101800.0   \n",
       "173     642550         Europe                Montenegro    MNE     10610.0   \n",
       "174    1895250         Europe                    Kosovo    -99     18490.0   \n",
       "175    1218208  North America       Trinidad and Tobago    TTO     43570.0   \n",
       "176   13026129         Africa                  S. Sudan    SSD     20880.0   \n",
       "\n",
       "                                              geometry  \n",
       "0    MULTIPOLYGON (((180.00000 -16.06713, 180.00000...  \n",
       "1    POLYGON ((33.90371 -0.95000, 34.07262 -1.05982...  \n",
       "2    POLYGON ((-8.66559 27.65643, -8.66512 27.58948...  \n",
       "3    MULTIPOLYGON (((-122.84000 49.00000, -122.9742...  \n",
       "4    MULTIPOLYGON (((-122.84000 49.00000, -120.0000...  \n",
       "..                                                 ...  \n",
       "172  POLYGON ((18.82982 45.90887, 18.82984 45.90888...  \n",
       "173  POLYGON ((20.07070 42.58863, 19.80161 42.50009...  \n",
       "174  POLYGON ((20.59025 41.85541, 20.52295 42.21787...  \n",
       "175  POLYGON ((-61.68000 10.76000, -61.10500 10.890...  \n",
       "176  POLYGON ((30.83385 3.50917, 29.95350 4.17370, ...  \n",
       "\n",
       "[177 rows x 6 columns]"
      ]
     },
     "execution_count": 18,
     "metadata": {},
     "output_type": "execute_result"
    }
   ],
   "source": [
    "# what is in the naturalearth geodataframe? this is from the geopandas library\n",
    "gpd.read_file(gpd.datasets.get_path('naturalearth_lowres'))"
   ]
  },
  {
   "cell_type": "code",
   "execution_count": 19,
   "id": "656268f4-c355-4388-99a5-e3c83fd486e1",
   "metadata": {},
   "outputs": [
    {
     "name": "stdout",
     "output_type": "stream",
     "text": [
      "Geometry Column Name :  geometry\n",
      "Dataset Size :  (177, 6)\n"
     ]
    }
   ],
   "source": [
    "# I want to know more about this dataframe\n",
    "print(\"Geometry Column Name : \", vacmap.geometry.name)\n",
    "print(\"Dataset Size : \", vacmap.shape)"
   ]
  },
  {
   "cell_type": "code",
   "execution_count": 20,
   "id": "b4b35697-ad0a-441e-af1c-9fc5901e558c",
   "metadata": {},
   "outputs": [],
   "source": [
    "# this is going to let me set the geomtry and projection accordint to this guide https://geopandas.org/en/stable/docs/reference/api/geopandas.points_from_xy.html\n",
    "\n",
    "geometry = gpd.points_from_xy(vac.Longitude, vac.Latitude, crs=\"epsg:3857\")"
   ]
  },
  {
   "cell_type": "code",
   "execution_count": 21,
   "id": "81a364d7-abb1-4b21-8227-5434d9aafc26",
   "metadata": {
    "tags": []
   },
   "outputs": [
    {
     "name": "stdout",
     "output_type": "stream",
     "text": [
      "None\n"
     ]
    }
   ],
   "source": [
    "# i'm following this instruction to check if the project was set https://geopandas.org/en/stable/docs/reference/api/geopandas.GeoDataFrame.set_crs.html\n",
    "\n",
    "print(gvac.crs)"
   ]
  },
  {
   "cell_type": "code",
   "execution_count": 22,
   "id": "1b12e2b2-8799-463b-a3c3-733705197bde",
   "metadata": {},
   "outputs": [],
   "source": [
    "# looks like it wasn't. let me first load in basemaps \n",
    "import contextily as ctx"
   ]
  },
  {
   "cell_type": "code",
   "execution_count": 23,
   "id": "e67386fa-ddbd-42f7-b916-de865742afb8",
   "metadata": {},
   "outputs": [],
   "source": [
    "# now I will set to 3857 web mercator used in our previous lab, let's see if it goes this time\n",
    "gvac =gvac.set_crs('epsg:3857')"
   ]
  },
  {
   "cell_type": "code",
   "execution_count": 24,
   "id": "78a79b2d-9008-4fa4-af83-c0a99ffd5d94",
   "metadata": {},
   "outputs": [
    {
     "data": {
      "text/plain": [
       "<Projected CRS: EPSG:3857>\n",
       "Name: WGS 84 / Pseudo-Mercator\n",
       "Axis Info [cartesian]:\n",
       "- X[east]: Easting (metre)\n",
       "- Y[north]: Northing (metre)\n",
       "Area of Use:\n",
       "- name: World between 85.06°S and 85.06°N.\n",
       "- bounds: (-180.0, -85.06, 180.0, 85.06)\n",
       "Coordinate Operation:\n",
       "- name: Popular Visualisation Pseudo-Mercator\n",
       "- method: Popular Visualisation Pseudo Mercator\n",
       "Datum: World Geodetic System 1984 ensemble\n",
       "- Ellipsoid: WGS 84\n",
       "- Prime Meridian: Greenwich"
      ]
     },
     "execution_count": 24,
     "metadata": {},
     "output_type": "execute_result"
    }
   ],
   "source": [
    "# now that I set the projection, let us see what it says\n",
    "gvac.crs "
   ]
  },
  {
   "cell_type": "code",
   "execution_count": 25,
   "id": "a569801d-cf24-4df8-b6e9-f28ba8623b87",
   "metadata": {},
   "outputs": [
    {
     "name": "stderr",
     "output_type": "stream",
     "text": [
      "/opt/conda/lib/python3.9/site-packages/contextily/tile.py:581: UserWarning: The inferred zoom level of 26 is not valid for the current tile provider (valid zooms: 0 - 20).\n",
      "  warnings.warn(msg)\n"
     ]
    },
    {
     "data": {
      "image/png": "[encoded data removed]",
      "text/plain": [
       "<Figure size 864x864 with 1 Axes>"
      ]
     },
     "metadata": {
      "needs_background": "light"
     },
     "output_type": "display_data"
    }
   ],
   "source": [
    "# ok it told us what the projection is. now let's try to plot this spatially on a map\n",
    "fig,ax = plt.subplots(figsize=(12,12))\n",
    "\n",
    "gvac.plot(ax=ax)\n",
    "\n",
    "# basemap from carto that has a dark background (easier to see)\n",
    "ctx.add_basemap(ax,source=ctx.providers.Stamen.TonerLite)"
   ]
  },
  {
   "cell_type": "code",
   "execution_count": null,
   "id": "143477cb-24d9-4cac-a9a7-9ef0e02be147",
   "metadata": {},
   "outputs": [],
   "source": [
    "# would like to zoom in, also not sure why stamen base map isn't loading... to work on in a future iteration!\n",
    "fig,ax = plt.subplots(figsize=(12,12))\n"
   ]
  }
 ],
 "metadata": {
  "kernelspec": {
   "display_name": "Python 3 (ipykernel)",
   "language": "python",
   "name": "python3"
  },
  "language_info": {
   "codemirror_mode": {
    "name": "ipython",
    "version": 3
   },
   "file_extension": ".py",
   "mimetype": "text/x-python",
   "name": "python",
   "nbconvert_exporter": "python",
   "pygments_lexer": "ipython3",
   "version": "3.9.6"
  }
 },
 "nbformat": 4,
 "nbformat_minor": 5
}
